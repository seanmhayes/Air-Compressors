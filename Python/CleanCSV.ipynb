{
 "metadata": {
  "name": "",
  "signature": "sha256:a005b3e0ff91c900101279ed301ab7d66d11c6037cfa5e26e89f00637a7cee0e"
 },
 "nbformat": 3,
 "nbformat_minor": 0,
 "worksheets": [
  {
   "cells": [
    {
     "cell_type": "code",
     "collapsed": false,
     "input": [
      "import csv\n",
      "total = open('C:\\Users\\seanadmin\\Air-Compressors\\Python\\Element2InletTemp.csv', 'rb')\n",
      "reader = csv.reader(total)\n",
      "for i, line in enumerate(sys.stdin, -4):\n",
      "    if i>=0: print line"
     ],
     "language": "python",
     "metadata": {},
     "outputs": [
      {
       "ename": "SyntaxError",
       "evalue": "invalid syntax (<ipython-input-4-05a4a36d19b0>, line 5)",
       "output_type": "pyerr",
       "traceback": [
        "\u001b[1;36m  File \u001b[1;32m\"<ipython-input-4-05a4a36d19b0>\"\u001b[1;36m, line \u001b[1;32m5\u001b[0m\n\u001b[1;33m    if i>=0: print line\u001b[0m\n\u001b[1;37m                      ^\u001b[0m\n\u001b[1;31mSyntaxError\u001b[0m\u001b[1;31m:\u001b[0m invalid syntax\n"
       ]
      }
     ],
     "prompt_number": 4
    },
    {
     "cell_type": "code",
     "collapsed": false,
     "input": [
      "reader = csv.reader(total)\n",
      "all(next(reader) for i in range(4))"
     ],
     "language": "python",
     "metadata": {},
     "outputs": []
    }
   ],
   "metadata": {}
  }
 ]
}